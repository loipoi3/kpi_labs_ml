{
 "cells": [
  {
   "cell_type": "code",
   "execution_count": 177,
   "id": "0b1e668c",
   "metadata": {},
   "outputs": [],
   "source": [
    "import numpy as np\n",
    "import pandas as pd\n",
    "import matplotlib.pyplot as plt\n",
    "from sklearn.model_selection import train_test_split\n",
    "from sklearn.linear_model import Perceptron"
   ]
  },
  {
   "cell_type": "code",
   "execution_count": 201,
   "id": "bbe95a4b",
   "metadata": {},
   "outputs": [],
   "source": [
    "class SLP:\n",
    "    def __init__(self, learning_rate=0.01, num_epochs=100000):\n",
    "        self.learning_rate = learning_rate\n",
    "        self.num_epochs = num_epochs\n",
    "        \n",
    "    def fit(self, X, y):\n",
    "        X = np.array(X)\n",
    "        y = np.array(y)\n",
    "        n_in = X.shape[1]\n",
    "        n_out = 1\n",
    "        \n",
    "        # Xavier Initialization\n",
    "        limit = np.sqrt(6 / (n_in + n_out))\n",
    "        self._w = np.random.uniform(-limit, limit, size=(n_in, n_out))\n",
    "        self._b = 0.0\n",
    "\n",
    "        # propagate\n",
    "        for epoch in range(self.num_epochs):\n",
    "            m = X.shape[0]\n",
    "            A = 1 / (1 + np.exp(-(np.dot(X, self._w) + self._b)))\n",
    "            cost = (-1 / m) * np.sum(np.dot(y, np.log(A)) + np.dot(1 - y, np.log(1 - A)))\n",
    "            dw = (1 / m) * np.dot(X.T, (A - y.reshape(-1, 1)))\n",
    "            db = (1 / m) * np.sum(A - y.reshape(-1, 1))\n",
    "\n",
    "            # update rule\n",
    "            self._w = self._w - self.learning_rate * dw\n",
    "            self._b = self._b - self.learning_rate * db\n",
    "            \n",
    "            if epoch % 10000 == 0:\n",
    "                print(f\"Cost after epoch {epoch} = {cost}\")\n",
    "                print(f\"Weights after epoch {epoch}: w1 = {self._w[0, 0]} w2 = {self._w[1, 0]}\")\n",
    "                print(f\"Bias after epoch {epoch} = {self._b}\")\n",
    "                print()\n",
    "                \n",
    "        print(f\"Cost after epoch {self.num_epochs} = {cost}\")\n",
    "        print(f\"Weights after epoch {self.num_epochs}: w1 = {self._w[0, 0]} w2 = {self._w[1, 0]}\")\n",
    "        print(f\"Bias after epoch {self.num_epochs} = {self._b}\")\n",
    "        print()\n",
    "            \n",
    "    def predict(self, X):\n",
    "        X = np.array(X)\n",
    "        m = X.shape[0]\n",
    "        y_prediction = np.zeros((m, 1))\n",
    "        A = 1 / (1 + np.exp(-(np.dot(X, self._w) + self._b)))\n",
    "\n",
    "        for i in range(A.shape[0]):\n",
    "            if A[i, 0] > 0.5 :\n",
    "                y_prediction[i, 0] = 1\n",
    "            else:\n",
    "                y_prediction[i, 0] = 0\n",
    "                \n",
    "        return y_prediction"
   ]
  },
  {
   "cell_type": "code",
   "execution_count": 202,
   "id": "d7c5d845",
   "metadata": {},
   "outputs": [],
   "source": [
    "def plot_classes(df):\n",
    "    class_0 = df[df[2] == 0]\n",
    "    class_1 = df[df[2] == 1]\n",
    "\n",
    "    # Create two separate scatter plots for 'feature1' and 'feature2'.\n",
    "    plt.figure(figsize=(12, 5))\n",
    "\n",
    "    # Scatter plot for 'feature1'\n",
    "    plt.subplot(1, 2, 1)\n",
    "    plt.scatter(class_0[0], class_0[1], color='yellow', label='Class 0')\n",
    "    plt.scatter(class_1[0], class_1[1], color='blue', label='Class 1')\n",
    "    plt.xlabel('Feature 1')\n",
    "    plt.ylabel('Feature 2')\n",
    "    plt.legend()\n",
    "\n",
    "    plt.tight_layout()  # Ensures proper spacing between subplots\n",
    "    plt.show()"
   ]
  },
  {
   "cell_type": "code",
   "execution_count": 203,
   "id": "8051b906",
   "metadata": {},
   "outputs": [],
   "source": [
    "def plot_decision_bound(df, model):\n",
    "    weights = model._w\n",
    "    bias = model._b\n",
    "\n",
    "    # Plot the data points\n",
    "    class_0 = df[df[2] == 0]\n",
    "    class_1 = df[df[2] == 1]\n",
    "\n",
    "    plt.figure(figsize=(8, 6))\n",
    "\n",
    "    # Scatter plot for 'feature1' and 'feature2'\n",
    "    plt.scatter(class_0[0], class_0[1], color='yellow', label='Class 0')\n",
    "    plt.scatter(class_1[0], class_1[1], color='blue', label='Class 1')\n",
    "\n",
    "    # Define a range of values for 'feature1' to draw the decision boundary line\n",
    "    feature1_values = np.linspace(0, 1, 100)\n",
    "\n",
    "    # Calculate 'feature2' values for the decision boundary using the SLP equation\n",
    "    # SLP equation: w1 * feature1 + w2 * feature2 + b = 0\n",
    "    # Solving for feature2: feature2 = (-w1 * feature1 - b) / w2\n",
    "    decision_boundary = (-weights[0] * feature1_values - bias) / weights[1]\n",
    "\n",
    "    # Plot the decision boundary line\n",
    "    plt.plot(feature1_values, decision_boundary, color='red', linestyle='--', label='Decision Boundary')\n",
    "    \n",
    "    plt.ylim(df[1].min() - 0.1, df[1].max() + 0.1)\n",
    "\n",
    "    plt.xlabel('Feature 1')\n",
    "    plt.ylabel('Feature 2')\n",
    "    plt.legend()\n",
    "    plt.grid()\n",
    "    plt.show()"
   ]
  },
  {
   "cell_type": "code",
   "execution_count": 204,
   "id": "a857d1a1",
   "metadata": {},
   "outputs": [],
   "source": [
    "def accuracy(y_pred, y_true):\n",
    "    correct_predictions = sum(1 for pred, true in zip(y_pred, y_true) if pred == true)\n",
    "    total_values = len(y_true)\n",
    "    accuracy = correct_predictions / total_values\n",
    "    \n",
    "    return accuracy"
   ]
  },
  {
   "cell_type": "code",
   "execution_count": 205,
   "id": "6d51b48c",
   "metadata": {},
   "outputs": [
    {
     "data": {
      "text/html": [
       "<div>\n",
       "<style scoped>\n",
       "    .dataframe tbody tr th:only-of-type {\n",
       "        vertical-align: middle;\n",
       "    }\n",
       "\n",
       "    .dataframe tbody tr th {\n",
       "        vertical-align: top;\n",
       "    }\n",
       "\n",
       "    .dataframe thead th {\n",
       "        text-align: right;\n",
       "    }\n",
       "</style>\n",
       "<table border=\"1\" class=\"dataframe\">\n",
       "  <thead>\n",
       "    <tr style=\"text-align: right;\">\n",
       "      <th></th>\n",
       "      <th>0</th>\n",
       "      <th>1</th>\n",
       "      <th>2</th>\n",
       "    </tr>\n",
       "  </thead>\n",
       "  <tbody>\n",
       "    <tr>\n",
       "      <th>0</th>\n",
       "      <td>0.774</td>\n",
       "      <td>0.288</td>\n",
       "      <td>1</td>\n",
       "    </tr>\n",
       "    <tr>\n",
       "      <th>1</th>\n",
       "      <td>0.989</td>\n",
       "      <td>0.480</td>\n",
       "      <td>1</td>\n",
       "    </tr>\n",
       "    <tr>\n",
       "      <th>2</th>\n",
       "      <td>0.135</td>\n",
       "      <td>0.419</td>\n",
       "      <td>0</td>\n",
       "    </tr>\n",
       "    <tr>\n",
       "      <th>3</th>\n",
       "      <td>0.802</td>\n",
       "      <td>0.395</td>\n",
       "      <td>1</td>\n",
       "    </tr>\n",
       "    <tr>\n",
       "      <th>4</th>\n",
       "      <td>0.924</td>\n",
       "      <td>0.172</td>\n",
       "      <td>1</td>\n",
       "    </tr>\n",
       "  </tbody>\n",
       "</table>\n",
       "</div>"
      ],
      "text/plain": [
       "       0      1  2\n",
       "0  0.774  0.288  1\n",
       "1  0.989  0.480  1\n",
       "2  0.135  0.419  0\n",
       "3  0.802  0.395  1\n",
       "4  0.924  0.172  1"
      ]
     },
     "execution_count": 205,
     "metadata": {},
     "output_type": "execute_result"
    }
   ],
   "source": [
    "file_path = './data/data09.csv'\n",
    "df = pd.read_csv(file_path, header=None, delimiter=';')\n",
    "df.head()"
   ]
  },
  {
   "cell_type": "code",
   "execution_count": 206,
   "id": "b80c9620",
   "metadata": {},
   "outputs": [
    {
     "data": {
      "text/plain": [
       "2\n",
       "0    55\n",
       "1    45\n",
       "Name: count, dtype: int64"
      ]
     },
     "execution_count": 206,
     "metadata": {},
     "output_type": "execute_result"
    }
   ],
   "source": [
    "df[2].value_counts()"
   ]
  },
  {
   "cell_type": "code",
   "execution_count": 207,
   "id": "9260d107",
   "metadata": {},
   "outputs": [
    {
     "data": {
      "image/png": "[encoded data removed]",
      "text/plain": [
       "<Figure size 1200x500 with 1 Axes>"
      ]
     },
     "metadata": {},
     "output_type": "display_data"
    }
   ],
   "source": [
    "plot_classes(df)"
   ]
  },
  {
   "cell_type": "code",
   "execution_count": 208,
   "id": "620ba575",
   "metadata": {},
   "outputs": [],
   "source": [
    "X = df.iloc[:, :-1]\n",
    "y = df.iloc[:, -1]\n",
    "X_train, X_test, y_train, y_test = train_test_split(X, y, test_size=0.3, random_state=42)"
   ]
  },
  {
   "cell_type": "code",
   "execution_count": 209,
   "id": "8017d4b1",
   "metadata": {},
   "outputs": [
    {
     "name": "stdout",
     "output_type": "stream",
     "text": [
      "(2, 1)\n",
      "Cost after epoch 0 = 0.8374190717533929\n",
      "Weights after epoch 0: w1 = -1.0158644241339156 w2 = 0.3821797843939649\n",
      "Bias after epoch 0 = 0.0007454118286778236\n",
      "\n",
      "Cost after epoch 10000 = 0.30748581298080147\n",
      "Weights after epoch 10000: w1 = 4.9966342926969896 w2 = -0.2814605190331954\n",
      "Bias after epoch 10000 = -2.6807692810069965\n",
      "\n",
      "Cost after epoch 20000 = 0.22226235443927325\n",
      "Weights after epoch 20000: w1 = 7.434407363494823 w2 = -0.1654634435261812\n",
      "Bias after epoch 20000 = -4.226132134102853\n",
      "\n",
      "Cost after epoch 30000 = 0.1832653018764143\n",
      "Weights after epoch 30000: w1 = 9.060762674495463 w2 = 0.010684138463961823\n",
      "Bias after epoch 30000 = -5.31930635557332\n",
      "\n",
      "Cost after epoch 40000 = 0.15969496545499376\n",
      "Weights after epoch 40000: w1 = 10.318305759452073 w2 = 0.17299130794640863\n",
      "Bias after epoch 40000 = -6.179814241137793\n",
      "\n",
      "Cost after epoch 50000 = 0.14347777014383575\n",
      "Weights after epoch 50000: w1 = 11.359728687511673 w2 = 0.3147733299699162\n",
      "Bias after epoch 50000 = -6.89632030378321\n",
      "\n",
      "Cost after epoch 60000 = 0.13143846391058958\n",
      "Weights after epoch 60000: w1 = 12.256865611242214 w2 = 0.43868352919135045\n",
      "Bias after epoch 60000 = -7.51429288449991\n",
      "\n",
      "Cost after epoch 70000 = 0.12204010983636744\n",
      "Weights after epoch 70000: w1 = 13.049758190479638 w2 = 0.5482088238975917\n",
      "Bias after epoch 70000 = -8.060309747013513\n",
      "\n",
      "Cost after epoch 80000 = 0.11443631807965295\n",
      "Weights after epoch 80000: w1 = 13.763248501473466 w2 = 0.6462674010679095\n",
      "Bias after epoch 80000 = -8.551298824452127\n",
      "\n",
      "Cost after epoch 90000 = 0.10811759270390629\n",
      "Weights after epoch 90000: w1 = 14.413926796929545 w2 = 0.7351075370817044\n",
      "Bias after epoch 90000 = -8.998727918199705\n",
      "\n",
      "Cost after epoch 100000 = 0.10275697705177893\n",
      "Weights after epoch 100000: w1 = 15.01342653645372 w2 = 0.816427372673931\n",
      "Bias after epoch 100000 = -9.410698613383541\n",
      "\n",
      "Accuracy on test data: 0.9\n"
     ]
    }
   ],
   "source": [
    "model = SLP()\n",
    "model.fit(X_train, y_train)\n",
    "y_pred = model.predict(X_test)\n",
    "print(f\"Accuracy on test data: {accuracy(y_pred, y_test)}\")"
   ]
  },
  {
   "cell_type": "code",
   "execution_count": 210,
   "id": "11557c58",
   "metadata": {},
   "outputs": [
    {
     "data": {
      "image/png": "[encoded data removed]",
      "text/plain": [
       "<Figure size 800x600 with 1 Axes>"
      ]
     },
     "metadata": {},
     "output_type": "display_data"
    }
   ],
   "source": [
    "plot_decision_bound(df, model)"
   ]
  },
  {
   "cell_type": "code",
   "execution_count": 211,
   "id": "a595203d",
   "metadata": {},
   "outputs": [
    {
     "name": "stdout",
     "output_type": "stream",
     "text": [
      "Accuracy: 0.8666666666666667\n"
     ]
    }
   ],
   "source": [
    "perceptron = Perceptron(max_iter=100000, eta0=0.01, random_state=42)\n",
    "perceptron.fit(X_train, y_train)\n",
    "y_pred = perceptron.predict(X_test)\n",
    "acc = accuracy(y_pred, y_test)\n",
    "print(f\"Accuracy: {acc}\")"
   ]
  },
  {
   "cell_type": "code",
   "execution_count": null,
   "id": "8d879693",
   "metadata": {},
   "outputs": [],
   "source": []
  }
 ],
 "metadata": {
  "kernelspec": {
   "display_name": "Python 3 (ipykernel)",
   "language": "python",
   "name": "python3"
  },
  "language_info": {
   "codemirror_mode": {
    "name": "ipython",
    "version": 3
   },
   "file_extension": ".py",
   "mimetype": "text/x-python",
   "name": "python",
   "nbconvert_exporter": "python",
   "pygments_lexer": "ipython3",
   "version": "3.11.5"
  }
 },
 "nbformat": 4,
 "nbformat_minor": 5
}
